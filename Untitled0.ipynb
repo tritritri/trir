{
  "nbformat": 4,
  "nbformat_minor": 0,
  "metadata": {
    "colab": {
      "name": "Untitled0.ipynb",
      "provenance": [],
      "authorship_tag": "ABX9TyOyyUb0Xv9IhHvcJ9e3yCsz",
      "include_colab_link": true
    },
    "kernelspec": {
      "name": "python3",
      "display_name": "Python 3"
    }
  },
  "cells": [
    {
      "cell_type": "markdown",
      "metadata": {
        "id": "view-in-github",
        "colab_type": "text"
      },
      "source": [
        "<a href=\"https://colab.research.google.com/github/tritritri/trir/blob/master/Untitled0.ipynb\" target=\"_parent\"><img src=\"https://colab.research.google.com/assets/colab-badge.svg\" alt=\"Open In Colab\"/></a>"
      ]
    },
    {
      "cell_type": "markdown",
      "metadata": {
        "id": "kc2mFyqYFnuY"
      },
      "source": [
        "Hello "
      ]
    },
    {
      "cell_type": "code",
      "metadata": {
        "id": "ixy9vzzcFmME"
      },
      "source": [
        "hello code"
      ],
      "execution_count": null,
      "outputs": []
    }
  ]
}